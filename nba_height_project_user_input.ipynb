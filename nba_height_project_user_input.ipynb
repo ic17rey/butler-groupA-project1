{
 "cells": [
  {
   "cell_type": "markdown",
   "metadata": {},
   "source": [
    "# How Player Height Affects the NBA\n",
    "### Analysis Team\n",
    "*Lindsay Reynolds, Nick Sheets*"
   ]
  },
  {
   "cell_type": "code",
   "execution_count": null,
   "metadata": {},
   "outputs": [],
   "source": [
    "%matplotlib notebook"
   ]
  },
  {
   "cell_type": "code",
   "execution_count": null,
   "metadata": {},
   "outputs": [],
   "source": [
    "# Set up dependencies and read in csv files needed\n",
    "import os\n",
    "import pandas as pd\n",
    "\n",
    "import matplotlib.pyplot as plt\n",
    "import numpy as np\n",
    "\n",
    "from scipy.stats import stats\n",
    "from scipy.stats import linregress"
   ]
  },
  {
   "cell_type": "code",
   "execution_count": null,
   "metadata": {},
   "outputs": [],
   "source": [
    "def choice_made(request): \n",
    "    \n",
    "    user_choice = input(\"What type of search would you like to begin (enter TYPE of search: Player, College, or Country)? \")\n",
    "    if (user_choice == \"Player\"):\n",
    "        search_for_player = input(\"Great choice! What player are you searching for (enter first and last name please)? \")\n",
    "        type_of_stats= input(\"Okay, would you like to see multi-year stats or an average across the three seasons analyzed (enter All or Average)? \")\n",
    "        if type_of_stats == \"All\":\n",
    "            result_of_search = nba_stats_breakout_by_season_df[nba_stats_breakout_by_season_df[\"player_name\"] == search_for_player]\n",
    "            print(f\"Here are the stats from our analysis for your player, {search_for_player}.\")\n",
    "            return result_of_search.head(3)\n",
    "        elif type_of_stats == \"Average\": \n",
    "            result_of_search_average = nba_stats_df[nba_stats_df[\"player_name\"] == search_for_player]\n",
    "            print(f\"Here are the averaged stats from our analysis for your player, {search_for_player}.\")\n",
    "            return result_of_search_average.head(3)\n",
    "        #else:\n",
    "         #    print(\"There are no stats to display for this player.\")\n",
    "\n",
    "    elif (user_choice == \"College\"):\n",
    "        search_for_college = input(\"Great choice! What college would you like to search for? \")\n",
    "        type_of_stats_college = input(\"Okay, would you like to see multi-year stats or an average across the three seasons analyzed (enter All or Average)? \")\n",
    "        if type_of_stats_college == \"All\":\n",
    "            result_of_search_college = nba_stats_breakout_by_season_df[nba_stats_breakout_by_season_df[\"college\"] == search_for_college]\n",
    "            print(f\"Here are the stats for players who went to the college from your search, {search_for_college}. (up to 50 results)\")\n",
    "            return result_of_search_college.head(50)\n",
    "        elif type_of_stats_college == \"Average\":\n",
    "            result_of_search_college_avg = nba_stats_df[nba_stats_df[\"college\"] == search_for_college]\n",
    "            print(f\"Here are the average stats for players who went to the college from your search, {search_for_college}. (up to 50 results)\")\n",
    "            return result_of_search_college_avg.head(50)\n",
    "    elif (user_choice == \"Country\"):\n",
    "        search_for_country = input(\"Great choice! What country would you like to search for? \")\n",
    "        type_of_stats_country = input(\"Okay, would you like to see multi-year stats or an average across the three seasons analyzed (enter All or Average)? \")\n",
    "        if type_of_stats_country == \"All\":\n",
    "            result_of_search_country = nba_stats_breakout_by_season_df[nba_stats_breakout_by_season_df[\"country\"] == search_for_country]\n",
    "            print(f\"Here are the stats for players from the country of your search, {search_for_country}. (up to 50 results)\")\n",
    "            return result_of_search_country.head(50)\n",
    "        elif type_of_stats_country == \"Average\":\n",
    "            result_of_search_country_avg = nba_stats_df[nba_stats_df[\"country\"] == search_for_country]\n",
    "            print(f\"Here are the average stats for players from the country of your search,, {search_for_country}. (up to 50 results)\")\n",
    "            return result_of_search_country_avg.head(50)\n",
    "            \n",
    "            # End of function set-up"
   ]
  },
  {
   "cell_type": "code",
   "execution_count": null,
   "metadata": {},
   "outputs": [],
   "source": []
  },
  {
   "cell_type": "markdown",
   "metadata": {},
   "source": [
    "### Define a function to allow user input for searching for stats \n",
    "#### Search by Player, by College or by Country"
   ]
  },
  {
   "cell_type": "code",
   "execution_count": null,
   "metadata": {},
   "outputs": [],
   "source": [
    "### Allow user input for search by player, college or country\n",
    "#### Player search can be for multi-year stats or for average  \n",
    "  * Choose All or Average\n",
    "    * All will return a row for each season of data from the analysis\n",
    "    * Average will return the average across those seasons played\n",
    "    * Seasons in the data frames include only 2016-17, 2017-18 and 2018-19\n",
    "  \n",
    "#### College search returns data frame rows for players who attended the college entered\n",
    "  * Choose All or Average \n",
    "    * All will return a row for each player and each season of data from the stats analysis\n",
    "    * Average will return the average for each player across those seasons played\n",
    "    * Will return up to 50 rows of results\n",
    "    \n",
    "#### Country search returns data frame rows for players listed for the country entered\n",
    "  * Choose All or Aveage \n",
    "    * All will return a row for each player and each season of data from the stats analysis\n",
    "    * Average will return the average for each player across those seasons played\n",
    "    * Will return up to 50 rows of results\n",
    "    * There are 50 total players not listed as USA in our data   "
   ]
  },
  {
   "cell_type": "code",
   "execution_count": null,
   "metadata": {},
   "outputs": [],
   "source": [
    "def choice_made(request): \n",
    "    \n",
    "    user_choice = input(\"What type of search would you like to begin (enter TYPE of search: Player, College, or Country)? \")\n",
    "    if (user_choice == \"Player\"):\n",
    "        search_for_player = input(\"Great choice! What player are you searching for (enter first and last name please)? \")\n",
    "        type_of_stats= input(\"Okay, would you like to see multi-year stats or an average across the three seasons analyzed (enter All or Average)? \")\n",
    "        if type_of_stats == \"All\":\n",
    "            result_of_search = nba_stats_breakout_by_season_df[nba_stats_breakout_by_season_df[\"player_name\"] == search_for_player]\n",
    "            print(f\"Here are the stats from our analysis for your player, {search_for_player}.\")\n",
    "            return result_of_search.head(3)\n",
    "        elif type_of_stats == \"Average\": \n",
    "            result_of_search_average = nba_stats_df[nba_stats_df[\"player_name\"] == search_for_player]\n",
    "            print(f\"Here are the averaged stats from our analysis for your player, {search_for_player}.\")\n",
    "            return result_of_search_average.head(3)\n",
    "        #else:\n",
    "         #    print(\"There are no stats to display for this player.\")\n",
    "\n",
    "    elif (user_choice == \"College\"):\n",
    "        search_for_college = input(\"Great choice! What college would you like to search for? \")\n",
    "        type_of_stats_college = input(\"Okay, would you like to see multi-year stats or an average across the three seasons analyzed (enter All or Average)? \")\n",
    "        if type_of_stats_college == \"All\":\n",
    "            result_of_search_college = nba_stats_breakout_by_season_df[nba_stats_breakout_by_season_df[\"college\"] == search_for_college]\n",
    "            print(f\"Here are the stats for players who went to the college from your search, {search_for_college}. (up to 50 results)\")\n",
    "            return result_of_search_college.head(50)\n",
    "        elif type_of_stats_college == \"Average\":\n",
    "            result_of_search_college_avg = nba_stats_df[nba_stats_df[\"college\"] == search_for_college]\n",
    "            print(f\"Here are the average stats for players who went to the college from your search, {search_for_college}. (up to 50 results)\")\n",
    "            return result_of_search_college_avg.head(50)\n",
    "    elif (user_choice == \"Country\"):\n",
    "        search_for_country = input(\"Great choice! What country would you like to search for? \")\n",
    "        type_of_stats_country = input(\"Okay, would you like to see multi-year stats or an average across the three seasons analyzed (enter All or Average)? \")\n",
    "        if type_of_stats_country == \"All\":\n",
    "            result_of_search_country = nba_stats_breakout_by_season_df[nba_stats_breakout_by_season_df[\"country\"] == search_for_country]\n",
    "            print(f\"Here are the stats for players from the country of your search, {search_for_country}. (up to 50 results)\")\n",
    "            return result_of_search_country.head(50)\n",
    "        elif type_of_stats_country == \"Average\":\n",
    "            result_of_search_country_avg = nba_stats_df[nba_stats_df[\"country\"] == search_for_country]\n",
    "            print(f\"Here are the average stats for players from the country of your search,, {search_for_country}. (up to 50 results)\")\n",
    "            return result_of_search_country_avg.head(50)\n",
    "            \n",
    "            # End of function set-up"
   ]
  },
  {
   "cell_type": "code",
   "execution_count": null,
   "metadata": {},
   "outputs": [],
   "source": [
    "# Allow for user entry of Player, College or Country by running this cell\n",
    "choice_made(\"user_choice\")\n",
    "\n",
    "# Hit enter for each input box if want to escape"
   ]
  }
 ],
 "metadata": {
  "kernelspec": {
   "display_name": "PythonData",
   "language": "python",
   "name": "pythondata"
  },
  "language_info": {
   "codemirror_mode": {
    "name": "ipython",
    "version": 3
   },
   "file_extension": ".py",
   "mimetype": "text/x-python",
   "name": "python",
   "nbconvert_exporter": "python",
   "pygments_lexer": "ipython3",
   "version": "3.6.10"
  }
 },
 "nbformat": 4,
 "nbformat_minor": 4
}
